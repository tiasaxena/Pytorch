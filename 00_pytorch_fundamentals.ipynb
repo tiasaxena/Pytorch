{
  "nbformat": 4,
  "nbformat_minor": 0,
  "metadata": {
    "colab": {
      "provenance": [],
      "gpuType": "T4"
    },
    "kernelspec": {
      "name": "python3",
      "display_name": "Python 3"
    },
    "language_info": {
      "name": "python"
    },
    "accelerator": "GPU"
  },
  "cells": [
    {
      "cell_type": "markdown",
      "source": [
        "## References made to ChatGPT: [link](https://chatgpt.com/share/ddc7b1f8-4631-4437-a54e-5c52f4eb8f26)"
      ],
      "metadata": {
        "id": "PkrRCFHQJt4X"
      }
    },
    {
      "cell_type": "code",
      "source": [
        "## 00 pytorch fundamentals"
      ],
      "metadata": {
        "id": "Gl2sxwZk_b_k"
      },
      "execution_count": null,
      "outputs": []
    },
    {
      "cell_type": "code",
      "execution_count": null,
      "metadata": {
        "colab": {
          "base_uri": "https://localhost:8080/"
        },
        "id": "iaeepHlk-iLT",
        "outputId": "d2b2230b-13b6-484a-fa3e-bd132f1a533a"
      },
      "outputs": [
        {
          "output_type": "stream",
          "name": "stdout",
          "text": [
            "Hello I am excited to learn pytorch!\n"
          ]
        }
      ],
      "source": [
        "print(\"Hello I am excited to learn pytorch!\")"
      ]
    },
    {
      "cell_type": "code",
      "source": [
        "!nvidia-smi"
      ],
      "metadata": {
        "colab": {
          "base_uri": "https://localhost:8080/"
        },
        "id": "znzDukwy-uYw",
        "outputId": "cf82228c-0436-4b0a-efad-6262426b7842"
      },
      "execution_count": null,
      "outputs": [
        {
          "output_type": "stream",
          "name": "stdout",
          "text": [
            "Fri Oct  4 11:02:42 2024       \n",
            "+---------------------------------------------------------------------------------------+\n",
            "| NVIDIA-SMI 535.104.05             Driver Version: 535.104.05   CUDA Version: 12.2     |\n",
            "|-----------------------------------------+----------------------+----------------------+\n",
            "| GPU  Name                 Persistence-M | Bus-Id        Disp.A | Volatile Uncorr. ECC |\n",
            "| Fan  Temp   Perf          Pwr:Usage/Cap |         Memory-Usage | GPU-Util  Compute M. |\n",
            "|                                         |                      |               MIG M. |\n",
            "|=========================================+======================+======================|\n",
            "|   0  Tesla T4                       Off | 00000000:00:04.0 Off |                    0 |\n",
            "| N/A   44C    P8               9W /  70W |      0MiB / 15360MiB |      0%      Default |\n",
            "|                                         |                      |                  N/A |\n",
            "+-----------------------------------------+----------------------+----------------------+\n",
            "                                                                                         \n",
            "+---------------------------------------------------------------------------------------+\n",
            "| Processes:                                                                            |\n",
            "|  GPU   GI   CI        PID   Type   Process name                            GPU Memory |\n",
            "|        ID   ID                                                             Usage      |\n",
            "|=======================================================================================|\n",
            "|  No running processes found                                                           |\n",
            "+---------------------------------------------------------------------------------------+\n"
          ]
        }
      ]
    },
    {
      "cell_type": "code",
      "source": [
        "import torch\n",
        "print(torch.__version__)"
      ],
      "metadata": {
        "id": "t2E1c1kr_CYL"
      },
      "execution_count": null,
      "outputs": []
    },
    {
      "cell_type": "markdown",
      "source": [
        "## Introduction to Tensors\n",
        "\n",
        "### Creating tensors"
      ],
      "metadata": {
        "id": "IuW3l7VnqJE8"
      }
    },
    {
      "cell_type": "code",
      "source": [
        "# scalar\n",
        "scaler = torch.tensor(7)\n",
        "\n",
        "print(scaler.shape)\n",
        "scaler"
      ],
      "metadata": {
        "colab": {
          "base_uri": "https://localhost:8080/"
        },
        "id": "R8OruYwMqRFH",
        "outputId": "981ba160-b9c8-4e5f-b538-ddc762f21b45"
      },
      "execution_count": null,
      "outputs": [
        {
          "output_type": "stream",
          "name": "stdout",
          "text": [
            "torch.Size([])\n"
          ]
        },
        {
          "output_type": "execute_result",
          "data": {
            "text/plain": [
              "tensor(7)"
            ]
          },
          "metadata": {},
          "execution_count": 86
        }
      ]
    },
    {
      "cell_type": "code",
      "source": [
        "scaler.ndim, scaler.item()"
      ],
      "metadata": {
        "id": "O6-kczMsqt2o",
        "colab": {
          "base_uri": "https://localhost:8080/"
        },
        "outputId": "88353123-78a1-4e0e-803d-4042d859d14c"
      },
      "execution_count": null,
      "outputs": [
        {
          "output_type": "execute_result",
          "data": {
            "text/plain": [
              "(0, 7)"
            ]
          },
          "metadata": {},
          "execution_count": 83
        }
      ]
    },
    {
      "cell_type": "code",
      "source": [
        "# vector\n",
        "vector = torch.tensor([1, 2, 3])\n",
        "vector\n"
      ],
      "metadata": {
        "colab": {
          "base_uri": "https://localhost:8080/"
        },
        "id": "VCig8CTx8oFZ",
        "outputId": "7b5e112e-4d5b-488e-eac7-d38aed0051ac"
      },
      "execution_count": null,
      "outputs": [
        {
          "output_type": "execute_result",
          "data": {
            "text/plain": [
              "tensor([1, 2, 3])"
            ]
          },
          "metadata": {},
          "execution_count": 72
        }
      ]
    },
    {
      "cell_type": "code",
      "source": [
        "vector.shape, vector.ndim, vector[2]"
      ],
      "metadata": {
        "colab": {
          "base_uri": "https://localhost:8080/"
        },
        "id": "AXiQ51iG810s",
        "outputId": "98d7141a-149a-4054-ba31-30964ddc0937"
      },
      "execution_count": null,
      "outputs": [
        {
          "output_type": "execute_result",
          "data": {
            "text/plain": [
              "(torch.Size([3]), 1, tensor(3))"
            ]
          },
          "metadata": {},
          "execution_count": 70
        }
      ]
    },
    {
      "cell_type": "code",
      "source": [
        "# MATRIX\n",
        "MATRIX = torch.tensor([[3, 4], [5, 6]])\n",
        "MATRIX"
      ],
      "metadata": {
        "colab": {
          "base_uri": "https://localhost:8080/"
        },
        "id": "AKSizDbG9GEc",
        "outputId": "4c7b0021-f689-43a1-daa9-907839b933ae"
      },
      "execution_count": null,
      "outputs": [
        {
          "output_type": "execute_result",
          "data": {
            "text/plain": [
              "tensor([[3, 4],\n",
              "        [5, 6]])"
            ]
          },
          "metadata": {},
          "execution_count": 73
        }
      ]
    },
    {
      "cell_type": "code",
      "source": [
        "MATRIX.ndim, MATRIX[1]"
      ],
      "metadata": {
        "colab": {
          "base_uri": "https://localhost:8080/"
        },
        "id": "xwSfeCMW9Npd",
        "outputId": "21988fac-8539-42c7-9764-fb77bb2c080b"
      },
      "execution_count": null,
      "outputs": [
        {
          "output_type": "execute_result",
          "data": {
            "text/plain": [
              "(2, tensor([5, 6]))"
            ]
          },
          "metadata": {},
          "execution_count": 85
        }
      ]
    },
    {
      "cell_type": "code",
      "source": [
        "MATRIX.shape"
      ],
      "metadata": {
        "colab": {
          "base_uri": "https://localhost:8080/"
        },
        "id": "Sq2f8v7z9RwZ",
        "outputId": "4938f452-1aac-4c2c-941d-3e9653bc4acf"
      },
      "execution_count": null,
      "outputs": [
        {
          "output_type": "execute_result",
          "data": {
            "text/plain": [
              "torch.Size([2, 2])"
            ]
          },
          "metadata": {},
          "execution_count": 75
        }
      ]
    },
    {
      "cell_type": "code",
      "source": [
        "# TENSOR\n",
        "TENSOR = torch.tensor([[[1, 2, 3], [4, 6, 7]], [[1, 2, 3], [4, 6, 7]], [[1, 2, 3], [4, 6, 7]]])\n",
        "TENSOR"
      ],
      "metadata": {
        "colab": {
          "base_uri": "https://localhost:8080/"
        },
        "id": "g6LUYquY9V-M",
        "outputId": "13bada5e-b1fb-4373-8567-46b98d2c1a27"
      },
      "execution_count": null,
      "outputs": [
        {
          "output_type": "execute_result",
          "data": {
            "text/plain": [
              "tensor([[[1, 2, 3],\n",
              "         [4, 6, 7]],\n",
              "\n",
              "        [[1, 2, 3],\n",
              "         [4, 6, 7]],\n",
              "\n",
              "        [[1, 2, 3],\n",
              "         [4, 6, 7]]])"
            ]
          },
          "metadata": {},
          "execution_count": 76
        }
      ]
    },
    {
      "cell_type": "code",
      "source": [
        "TENSOR.size(), TENSOR.shape"
      ],
      "metadata": {
        "colab": {
          "base_uri": "https://localhost:8080/"
        },
        "id": "3pbV6WmP9q9Z",
        "outputId": "1d2c03f0-42a6-4bf5-e888-4d96334f818a"
      },
      "execution_count": null,
      "outputs": [
        {
          "output_type": "execute_result",
          "data": {
            "text/plain": [
              "(torch.Size([3, 2, 3]), torch.Size([3, 2, 3]))"
            ]
          },
          "metadata": {},
          "execution_count": 78
        }
      ]
    },
    {
      "cell_type": "code",
      "source": [
        "TENSOR[2][1][0]"
      ],
      "metadata": {
        "colab": {
          "base_uri": "https://localhost:8080/"
        },
        "id": "40o5SDMY9v3K",
        "outputId": "d6c7e032-daca-4d65-ee23-adcff2755580"
      },
      "execution_count": null,
      "outputs": [
        {
          "output_type": "execute_result",
          "data": {
            "text/plain": [
              "tensor(4)"
            ]
          },
          "metadata": {},
          "execution_count": 79
        }
      ]
    },
    {
      "cell_type": "markdown",
      "source": [
        "## Random Numbers\n",
        "\n",
        "Why random tensors?\n",
        "Random tensors are important because the way many neural networks learn is that they start with tensors full of random numbers and then adjust these radom numbers to better represent data.\n",
        "\n",
        "`Start with random numbers -> look at data -> update the random numebrs -> look at data -> update the random numbers`"
      ],
      "metadata": {
        "id": "t22nu4M6-AKW"
      }
    },
    {
      "cell_type": "code",
      "source": [
        "# Create a random tensor of size (3, 4)\n",
        "random_tensor = torch.rand(3, 4) # or (size=(3, 4))\n",
        "random_tensor"
      ],
      "metadata": {
        "colab": {
          "base_uri": "https://localhost:8080/"
        },
        "id": "AnaEZ9Vi-ii7",
        "outputId": "239abf49-63a6-43bb-e46c-c4354d75fdd8"
      },
      "execution_count": null,
      "outputs": [
        {
          "output_type": "execute_result",
          "data": {
            "text/plain": [
              "tensor([[0.8694, 0.5677, 0.7411, 0.4294],\n",
              "        [0.8854, 0.5739, 0.2666, 0.6274],\n",
              "        [0.2696, 0.4414, 0.2969, 0.8317]])"
            ]
          },
          "metadata": {},
          "execution_count": 87
        }
      ]
    },
    {
      "cell_type": "code",
      "source": [
        "random_tensor.ndim"
      ],
      "metadata": {
        "colab": {
          "base_uri": "https://localhost:8080/"
        },
        "id": "OYPJhWXO-um8",
        "outputId": "6f035b41-f8df-4d8a-87f2-5a9afe91f097"
      },
      "execution_count": null,
      "outputs": [
        {
          "output_type": "execute_result",
          "data": {
            "text/plain": [
              "2"
            ]
          },
          "metadata": {},
          "execution_count": 88
        }
      ]
    },
    {
      "cell_type": "code",
      "source": [
        "# Create a random tensor with similar shape to an image tensor\n",
        "random_image_size_tensor = torch.rand(size=(244, 244, 3)) # height, width, RGB\n",
        "random_image_size_tensor"
      ],
      "metadata": {
        "colab": {
          "base_uri": "https://localhost:8080/"
        },
        "id": "PZgZSVnU-4Yq",
        "outputId": "d79b8034-a67b-49b0-db95-0f3962acca3f"
      },
      "execution_count": null,
      "outputs": [
        {
          "output_type": "execute_result",
          "data": {
            "text/plain": [
              "tensor([[[0.1053, 0.2695, 0.3588],\n",
              "         [0.1994, 0.5472, 0.0062],\n",
              "         [0.9516, 0.0753, 0.8860],\n",
              "         ...,\n",
              "         [0.1579, 0.2243, 0.8650],\n",
              "         [0.6578, 0.6615, 0.2881],\n",
              "         [0.4931, 0.9576, 0.1999]],\n",
              "\n",
              "        [[0.5039, 0.7378, 0.1548],\n",
              "         [0.9856, 0.2502, 0.3799],\n",
              "         [0.3647, 0.1742, 0.0094],\n",
              "         ...,\n",
              "         [0.3149, 0.4460, 0.7700],\n",
              "         [0.1527, 0.1840, 0.3880],\n",
              "         [0.3186, 0.6964, 0.8365]],\n",
              "\n",
              "        [[0.4465, 0.9728, 0.2911],\n",
              "         [0.2194, 0.2762, 0.1555],\n",
              "         [0.1495, 0.0545, 0.0569],\n",
              "         ...,\n",
              "         [0.6197, 0.4380, 0.9035],\n",
              "         [0.1090, 0.7437, 0.1813],\n",
              "         [0.0620, 0.3974, 0.7437]],\n",
              "\n",
              "        ...,\n",
              "\n",
              "        [[0.2719, 0.6953, 0.1937],\n",
              "         [0.4471, 0.9488, 0.6033],\n",
              "         [0.7192, 0.7423, 0.2911],\n",
              "         ...,\n",
              "         [0.7390, 0.2053, 0.3377],\n",
              "         [0.4264, 0.9190, 0.7629],\n",
              "         [0.4974, 0.7341, 0.7967]],\n",
              "\n",
              "        [[0.6198, 0.7465, 0.0777],\n",
              "         [0.7103, 0.5109, 0.0736],\n",
              "         [0.3117, 0.6190, 0.6539],\n",
              "         ...,\n",
              "         [0.7966, 0.4849, 0.6021],\n",
              "         [0.9620, 0.3083, 0.2703],\n",
              "         [0.5724, 0.6146, 0.2679]],\n",
              "\n",
              "        [[0.8590, 0.0491, 0.9791],\n",
              "         [0.9432, 0.2265, 0.0852],\n",
              "         [0.0779, 0.3716, 0.2295],\n",
              "         ...,\n",
              "         [0.2694, 0.1417, 0.6456],\n",
              "         [0.0226, 0.2094, 0.6321],\n",
              "         [0.0960, 0.4926, 0.1548]]])"
            ]
          },
          "metadata": {},
          "execution_count": 89
        }
      ]
    },
    {
      "cell_type": "markdown",
      "source": [
        "## Zeros and Ones"
      ],
      "metadata": {
        "id": "-DhblUmo_vFw"
      }
    },
    {
      "cell_type": "code",
      "source": [
        "# Create tensor of all zeros\n",
        "zeros = torch.zeros(3, 4)\n",
        "zeros"
      ],
      "metadata": {
        "colab": {
          "base_uri": "https://localhost:8080/"
        },
        "id": "ijsLUnE6_bUZ",
        "outputId": "0a3daa79-3431-4a1f-e4bc-2b1cd96720f7"
      },
      "execution_count": null,
      "outputs": [
        {
          "output_type": "execute_result",
          "data": {
            "text/plain": [
              "tensor([[0., 0., 0., 0.],\n",
              "        [0., 0., 0., 0.],\n",
              "        [0., 0., 0., 0.]])"
            ]
          },
          "metadata": {},
          "execution_count": 91
        }
      ]
    },
    {
      "cell_type": "code",
      "source": [
        "zeros * random_tensor"
      ],
      "metadata": {
        "colab": {
          "base_uri": "https://localhost:8080/"
        },
        "id": "CzAh0_-o_3TZ",
        "outputId": "e14e1a66-82b0-4cd8-b392-399fe680a23d"
      },
      "execution_count": null,
      "outputs": [
        {
          "output_type": "execute_result",
          "data": {
            "text/plain": [
              "tensor([[0., 0., 0., 0.],\n",
              "        [0., 0., 0., 0.],\n",
              "        [0., 0., 0., 0.]])"
            ]
          },
          "metadata": {},
          "execution_count": 90
        }
      ]
    },
    {
      "cell_type": "code",
      "source": [
        "# Create a tensor of all ones\n",
        "ones = torch.ones(size=(3, 4))\n",
        "print(ones * random_tensor)\n",
        "ones, ones.dtype #dtype -> default data type(float32)\n"
      ],
      "metadata": {
        "colab": {
          "base_uri": "https://localhost:8080/"
        },
        "id": "Uv9kg1-LAAOX",
        "outputId": "3a4995ae-d171-460f-b888-71172f2d242c"
      },
      "execution_count": null,
      "outputs": [
        {
          "output_type": "stream",
          "name": "stdout",
          "text": [
            "tensor([[0.8694, 0.5677, 0.7411, 0.4294],\n",
            "        [0.8854, 0.5739, 0.2666, 0.6274],\n",
            "        [0.2696, 0.4414, 0.2969, 0.8317]])\n"
          ]
        },
        {
          "output_type": "execute_result",
          "data": {
            "text/plain": [
              "(tensor([[1., 1., 1., 1.],\n",
              "         [1., 1., 1., 1.],\n",
              "         [1., 1., 1., 1.]]),\n",
              " torch.float32)"
            ]
          },
          "metadata": {},
          "execution_count": 94
        }
      ]
    },
    {
      "cell_type": "markdown",
      "source": [
        "## Creating a range of tensors and tensors-like"
      ],
      "metadata": {
        "id": "drFB-0Z4Al5V"
      }
    },
    {
      "cell_type": "code",
      "source": [
        "# Use torch.arange()\n",
        "one_to_ten = torch.arange(start=1,  end=11, step=1) # or torch.arange(1, 10, 2)\n",
        "one_to_ten\n"
      ],
      "metadata": {
        "id": "k33cJFZgAX1r"
      },
      "execution_count": null,
      "outputs": []
    },
    {
      "cell_type": "code",
      "source": [
        "# Creating tensors like\n",
        "ten_zeros = torch.zeros_like(input=one_to_ten)\n",
        "ten_ones = torch.ones_like(one_to_ten)\n",
        "ten_zeros, ten_ones"
      ],
      "metadata": {
        "id": "gISySW6gBBY2"
      },
      "execution_count": null,
      "outputs": []
    },
    {
      "cell_type": "markdown",
      "source": [
        "## Tensor Datatypes\n",
        "\n",
        "**Note:** Tensor datatype  is one of the 3 big errors you'll run into with PyTorch and deep learning:\n",
        "1. Tensors not right datatype -> `string * integer`\n",
        "2. Tensors not right shape -> `in case of matrix multiplication, the dimenion is to be taken care of`\n",
        "3. Tensors not on the right device -> `one tensor is on cpu and the other is on gpu and we need to work on both of those tensors at the same time`"
      ],
      "metadata": {
        "id": "Odv7gqnpBsmy"
      }
    },
    {
      "cell_type": "code",
      "source": [
        "#Float 32 tensor\n",
        "float_32_tensor = torch.tensor([3.0, 6.0, 9.0],\n",
        "                                dtype=None, # what datatype is the tensor of(integer, float, etc.)\n",
        "                                device=None, # what device the tensor is on(cpu or cude(gpu))\n",
        "                                requires_grad=False) # whether to store the mathematical operations performed on the tensor to eventually find the gradient\n",
        "float_32_tensor, float_32_tensor.dtype"
      ],
      "metadata": {
        "colab": {
          "base_uri": "https://localhost:8080/"
        },
        "id": "lMXJnELSBvJ2",
        "outputId": "7c391b3e-30d4-4cb2-ff2a-8612497a307b"
      },
      "execution_count": null,
      "outputs": [
        {
          "output_type": "execute_result",
          "data": {
            "text/plain": [
              "(tensor([3., 6., 9.]), torch.float32)"
            ]
          },
          "metadata": {},
          "execution_count": 100
        }
      ]
    },
    {
      "cell_type": "code",
      "source": [
        "float_16_tensor = float_32_tensor.type(torch.float16)\n",
        "float_16_tensor"
      ],
      "metadata": {
        "colab": {
          "base_uri": "https://localhost:8080/"
        },
        "id": "6eYIMR8LB39L",
        "outputId": "0e00c979-ffc5-4e1a-bc38-4e7be3d74fd5"
      },
      "execution_count": null,
      "outputs": [
        {
          "data": {
            "text/plain": [
              "tensor([3., 6., 9.], dtype=torch.float16)"
            ]
          },
          "execution_count": 24,
          "metadata": {},
          "output_type": "execute_result"
        }
      ]
    },
    {
      "cell_type": "code",
      "source": [
        "float_32_tensor * float_16_tensor"
      ],
      "metadata": {
        "colab": {
          "base_uri": "https://localhost:8080/"
        },
        "id": "fk0GBe0MD5hN",
        "outputId": "e2bacd11-8de9-477c-85c2-124ed7867186"
      },
      "execution_count": null,
      "outputs": [
        {
          "data": {
            "text/plain": [
              "tensor([ 9., 36., 81.])"
            ]
          },
          "execution_count": 25,
          "metadata": {},
          "output_type": "execute_result"
        }
      ]
    },
    {
      "cell_type": "markdown",
      "source": [
        "## Getting information from the tensor\n",
        "\n",
        "1. Tensor not right datatype -> use `tensor.dtype`\n",
        "2. Tensor not right shape -> use `tensor.shape` or `tensor.size()`\n",
        "1. Tensor not on the right device -> use `tensor.device`"
      ],
      "metadata": {
        "id": "v6N-wTZCEj5-"
      }
    },
    {
      "cell_type": "code",
      "source": [
        "# Getting information\n",
        "random_tensor = torch.rand(3, 4)\n",
        "random_tensor.dtype, random_tensor.shape, random_tensor.size(), random_tensor.device"
      ],
      "metadata": {
        "colab": {
          "base_uri": "https://localhost:8080/"
        },
        "id": "USdB2CTKEWaU",
        "outputId": "713973cf-43cb-4aeb-e699-abc526615553"
      },
      "execution_count": null,
      "outputs": [
        {
          "data": {
            "text/plain": [
              "(torch.float32, torch.Size([3, 4]), torch.Size([3, 4]), device(type='cpu'))"
            ]
          },
          "execution_count": 26,
          "metadata": {},
          "output_type": "execute_result"
        }
      ]
    },
    {
      "cell_type": "markdown",
      "source": [
        "## Tensor Operations\n",
        "* Addition\n",
        "* Subtraction\n",
        "* Multiplication (element-wise)\n",
        "* Division\n",
        "* Matrix Multiplication"
      ],
      "metadata": {
        "id": "lXjHQgXRFXXd"
      }
    },
    {
      "cell_type": "code",
      "source": [
        "# Create a tensor\n",
        "tensor = torch.tensor([1, 2, 3])\n",
        "tensor + 10, torch.add(tensor, 10), tensor.shape"
      ],
      "metadata": {
        "colab": {
          "base_uri": "https://localhost:8080/"
        },
        "id": "X2wzc21PFL4h",
        "outputId": "c92e9e6c-075d-4a85-f01a-188ba169736a"
      },
      "execution_count": null,
      "outputs": [
        {
          "output_type": "execute_result",
          "data": {
            "text/plain": [
              "(tensor([11, 12, 13]), tensor([11, 12, 13]), torch.Size([3]))"
            ]
          },
          "metadata": {},
          "execution_count": 101
        }
      ]
    },
    {
      "cell_type": "code",
      "source": [
        "tensor * 10"
      ],
      "metadata": {
        "colab": {
          "base_uri": "https://localhost:8080/"
        },
        "id": "_Iv4rYOLFwF-",
        "outputId": "67fbba8f-6228-4cf2-9b6e-c422476a290e"
      },
      "execution_count": null,
      "outputs": [
        {
          "data": {
            "text/plain": [
              "tensor([10, 20, 30])"
            ]
          },
          "execution_count": 28,
          "metadata": {},
          "output_type": "execute_result"
        }
      ]
    },
    {
      "cell_type": "code",
      "source": [
        "tensor - 10"
      ],
      "metadata": {
        "colab": {
          "base_uri": "https://localhost:8080/"
        },
        "id": "KhouAnKyFzcH",
        "outputId": "8a90b305-ba09-4d20-ef58-862e5472051f"
      },
      "execution_count": null,
      "outputs": [
        {
          "data": {
            "text/plain": [
              "tensor([-9, -8, -7])"
            ]
          },
          "execution_count": 29,
          "metadata": {},
          "output_type": "execute_result"
        }
      ]
    },
    {
      "cell_type": "markdown",
      "source": [
        "## Matrix Multiplication\n",
        "\n",
        "Two main ways of performing multiplication in neural networks and deep learning:\n",
        "1. Element-wise multiplication -> `(a, b) * (a, b) => (a, b)`\n",
        "2. Matrix Multiplication(dot product) -> `(c, d) * (d, e) => (c, e)`\n",
        "\n",
        "**Note:** There are two main rules that performing matrix multiplication needs to satisfy:\n",
        "1. The **inner dimensions** must match:\n",
        "* `(3, 2) @ (3, 2)` won't work.\n",
        "* `(2, 3) @ (3, 2)`will work.\n",
        "* `(3, 2) @ (2, 3)` will work.\n",
        "\n",
        "2. The resulting matrix has the shape of the **outer dimensions:**\n",
        "* `(2, 3) @ (3, 2)` -> `(2, 2)`"
      ],
      "metadata": {
        "id": "eenNT9a-GSsu"
      }
    },
    {
      "cell_type": "code",
      "source": [
        "# Element-wise Multiplication\n",
        "print(tensor * tensor)"
      ],
      "metadata": {
        "colab": {
          "base_uri": "https://localhost:8080/"
        },
        "id": "_tyV-UW8Gfm9",
        "outputId": "fe3e1211-5f85-4027-bcd7-4250db2e6a5a"
      },
      "execution_count": null,
      "outputs": [
        {
          "output_type": "stream",
          "name": "stdout",
          "text": [
            "tensor([1, 4, 9])\n"
          ]
        }
      ]
    },
    {
      "cell_type": "code",
      "source": [
        "%%time\n",
        "# Matrix Multiplication\n",
        "torch.matmul(tensor, tensor)"
      ],
      "metadata": {
        "colab": {
          "base_uri": "https://localhost:8080/"
        },
        "id": "5U919rFTGQ6H",
        "outputId": "dd3d7c80-12d6-4853-b2ee-65608632c877"
      },
      "execution_count": null,
      "outputs": [
        {
          "metadata": {
            "tags": null
          },
          "name": "stdout",
          "output_type": "stream",
          "text": [
            "CPU times: user 461 µs, sys: 0 ns, total: 461 µs\n",
            "Wall time: 8.96 ms\n"
          ]
        },
        {
          "data": {
            "text/plain": [
              "tensor(14)"
            ]
          },
          "execution_count": 31,
          "metadata": {},
          "output_type": "execute_result"
        }
      ]
    },
    {
      "cell_type": "code",
      "source": [
        "%%time\n",
        "# Matrix multiplication by hand\n",
        "value = 0\n",
        "for i in range(len(tensor)):\n",
        "  value += tensor[i] * tensor[i]\n",
        "\n",
        "value"
      ],
      "metadata": {
        "colab": {
          "base_uri": "https://localhost:8080/"
        },
        "id": "idg_G2KSGvWA",
        "outputId": "601779f6-cbcd-406f-d353-7297ac093e0c"
      },
      "execution_count": null,
      "outputs": [
        {
          "metadata": {
            "tags": null
          },
          "name": "stdout",
          "output_type": "stream",
          "text": [
            "CPU times: user 577 µs, sys: 0 ns, total: 577 µs\n",
            "Wall time: 610 µs\n"
          ]
        },
        {
          "data": {
            "text/plain": [
              "tensor(14)"
            ]
          },
          "execution_count": 32,
          "metadata": {},
          "output_type": "execute_result"
        }
      ]
    },
    {
      "cell_type": "markdown",
      "source": [
        "## One of the most common errors in deep learning: shape errors\n",
        "\n",
        "To fix tensor shape error, we can manipulate the shape of one of the tensors using a **transpose**\n",
        "\n",
        "A **transpose** switches the axes or dimensions of a given tensor."
      ],
      "metadata": {
        "id": "q5u9wakgZm7a"
      }
    },
    {
      "cell_type": "code",
      "source": [
        "# Shapes for matrix multiplication\n",
        "tensor_A = torch.tensor([[1, 2],\n",
        "                         [3, 4],\n",
        "                         [5, 6]])\n",
        "\n",
        "tensor_B = torch.tensor([[7, 10],\n",
        "                         [8, 11],\n",
        "                         [9, 12]])\n",
        "\n",
        "# torch.mm(tensor_A, tensor_B) # torch.mm is  the same as torch.matmul(it's an alias for writing less code)\n",
        "torch.matmul(tensor_A, tensor_B.T)"
      ],
      "metadata": {
        "id": "BO41XK3fG4Ak",
        "colab": {
          "base_uri": "https://localhost:8080/"
        },
        "outputId": "83f1ada0-57c4-4373-c357-bd2f4a6c55e1"
      },
      "execution_count": null,
      "outputs": [
        {
          "data": {
            "text/plain": [
              "tensor([[ 27,  30,  33],\n",
              "        [ 61,  68,  75],\n",
              "        [ 95, 106, 117]])"
            ]
          },
          "execution_count": 33,
          "metadata": {},
          "output_type": "execute_result"
        }
      ]
    },
    {
      "cell_type": "markdown",
      "source": [
        "## Finding the min, max, mean, sum, etc(tensor aggregation)"
      ],
      "metadata": {
        "id": "l-uQsgF0n3Bi"
      }
    },
    {
      "cell_type": "code",
      "source": [
        "# Create a tensor\n",
        "x = torch.arange(0, 100, 10)\n",
        "x, x.dtype"
      ],
      "metadata": {
        "colab": {
          "base_uri": "https://localhost:8080/"
        },
        "id": "4Vqdj3-Ln7vj",
        "outputId": "ce65fbe2-c6eb-4ae4-98d1-9b1ce0530f9f"
      },
      "execution_count": null,
      "outputs": [
        {
          "output_type": "execute_result",
          "data": {
            "text/plain": [
              "(tensor([[[1, 2, 3],\n",
              "          [4, 5, 6],\n",
              "          [7, 8, 9]]]),\n",
              " torch.int64)"
            ]
          },
          "metadata": {},
          "execution_count": 106
        }
      ]
    },
    {
      "cell_type": "code",
      "source": [
        "# Min\n",
        "x.min(), torch.min(x)"
      ],
      "metadata": {
        "colab": {
          "base_uri": "https://localhost:8080/"
        },
        "id": "K-Ea3sERoBvj",
        "outputId": "581d1f72-2ea4-48f1-ad50-157ad95c51cb"
      },
      "execution_count": null,
      "outputs": [
        {
          "data": {
            "text/plain": [
              "(tensor(0), tensor(0))"
            ]
          },
          "execution_count": 35,
          "metadata": {},
          "output_type": "execute_result"
        }
      ]
    },
    {
      "cell_type": "code",
      "source": [
        "# Max\n",
        "x.max(), torch.max(x)"
      ],
      "metadata": {
        "colab": {
          "base_uri": "https://localhost:8080/"
        },
        "id": "kmDZhfUkomuR",
        "outputId": "1253ec8c-98e6-4ea6-c05c-493e1f3e03cd"
      },
      "execution_count": null,
      "outputs": [
        {
          "data": {
            "text/plain": [
              "(tensor(90), tensor(90))"
            ]
          },
          "execution_count": 36,
          "metadata": {},
          "output_type": "execute_result"
        }
      ]
    },
    {
      "cell_type": "markdown",
      "source": [
        "### **Note**😈: torch.mean() works only on tensors which are of **float/complex data type**"
      ],
      "metadata": {
        "id": "8TqOtIqUpZS7"
      }
    },
    {
      "cell_type": "code",
      "source": [
        "# Mean\n",
        "x.type(torch.float32).mean(), torch.mean(x.type(torch.float32))"
      ],
      "metadata": {
        "colab": {
          "base_uri": "https://localhost:8080/"
        },
        "id": "8unzi36VotMz",
        "outputId": "642f6052-ca06-4f2b-c08b-3792327b121c"
      },
      "execution_count": null,
      "outputs": [
        {
          "data": {
            "text/plain": [
              "(tensor(45.), tensor(45.))"
            ]
          },
          "execution_count": 37,
          "metadata": {},
          "output_type": "execute_result"
        }
      ]
    },
    {
      "cell_type": "code",
      "source": [
        "# Sum\n",
        "x.sum(), torch.sum(x)"
      ],
      "metadata": {
        "colab": {
          "base_uri": "https://localhost:8080/"
        },
        "id": "r6-jviD8pxiQ",
        "outputId": "6d2377a5-9442-4989-cdbf-170456b5a486"
      },
      "execution_count": null,
      "outputs": [
        {
          "data": {
            "text/plain": [
              "(tensor(450), tensor(450))"
            ]
          },
          "execution_count": 38,
          "metadata": {},
          "output_type": "execute_result"
        }
      ]
    },
    {
      "cell_type": "markdown",
      "source": [
        "## Positional Min and Max with Tensor"
      ],
      "metadata": {
        "id": "hL462BRjqiAm"
      }
    },
    {
      "cell_type": "code",
      "source": [
        "# Find the position in tensor that has the maximum value with argmin()\n",
        "x.argmin(), torch.argmin(x)"
      ],
      "metadata": {
        "colab": {
          "base_uri": "https://localhost:8080/"
        },
        "id": "xffBx0NTqyLl",
        "outputId": "f885b87b-bed8-4ef6-bf6e-32bbdf9f19df"
      },
      "execution_count": null,
      "outputs": [
        {
          "data": {
            "text/plain": [
              "(tensor(0), tensor(0))"
            ]
          },
          "execution_count": 39,
          "metadata": {},
          "output_type": "execute_result"
        }
      ]
    },
    {
      "cell_type": "code",
      "source": [
        "# Find the position in the tensor that has the maximum value with argmax()\n",
        "x.argmax(), torch.argmax(x)"
      ],
      "metadata": {
        "colab": {
          "base_uri": "https://localhost:8080/"
        },
        "id": "cC2ubkQIq9LJ",
        "outputId": "55493920-e6ce-420f-d3ad-143bde828ddd"
      },
      "execution_count": null,
      "outputs": [
        {
          "data": {
            "text/plain": [
              "(tensor(9), tensor(9))"
            ]
          },
          "execution_count": 40,
          "metadata": {},
          "output_type": "execute_result"
        }
      ]
    },
    {
      "cell_type": "markdown",
      "source": [
        "## Reshaping, View, Stacking, Squeezing, Unsqueezing, Permute\n",
        "\n",
        "* **Reshaping:** Reshapes an input tensor to a defined shape\n",
        "* **View:** Returns a view of input tensor of defined shape but keep the same memory as the original tensor\n",
        "* **Stacking:** Combine multiple tensors on top of each other (vstack) or side by side(hstack)\n",
        "* **Squeeze:** Removes all `1` dimensions from a tensor\n",
        "* **Unsqueeze:** Adds a `1` dimension to a target tensor\n",
        "* **Permute:** Returns a view of the input tensor with the dimensions permuted(swapped) in a certain way"
      ],
      "metadata": {
        "id": "fvF4ulMNsG-x"
      }
    },
    {
      "cell_type": "code",
      "source": [
        "# Create a tensor\n",
        "x = torch.arange(1., 11.)\n",
        "\n",
        "# Adding an extra dimension\n",
        "x_reshaped = x.reshape(5, 1, 2, 1) # the numbers passed in the reshape function must multiply to the original tensor length\n",
        "x_reshaped"
      ],
      "metadata": {
        "id": "lCn_8sCZrLkS",
        "colab": {
          "base_uri": "https://localhost:8080/"
        },
        "outputId": "fb5dae3c-8c50-4ec7-e9fa-e605f1b09029"
      },
      "execution_count": null,
      "outputs": [
        {
          "data": {
            "text/plain": [
              "tensor([[[[ 1.],\n",
              "          [ 2.]]],\n",
              "\n",
              "\n",
              "        [[[ 3.],\n",
              "          [ 4.]]],\n",
              "\n",
              "\n",
              "        [[[ 5.],\n",
              "          [ 6.]]],\n",
              "\n",
              "\n",
              "        [[[ 7.],\n",
              "          [ 8.]]],\n",
              "\n",
              "\n",
              "        [[[ 9.],\n",
              "          [10.]]]])"
            ]
          },
          "execution_count": 41,
          "metadata": {},
          "output_type": "execute_result"
        }
      ]
    },
    {
      "cell_type": "code",
      "source": [
        "# Change the view\n",
        "z = x.view(2, 5)\n",
        "z"
      ],
      "metadata": {
        "colab": {
          "base_uri": "https://localhost:8080/"
        },
        "id": "7y1zU4hl0M6V",
        "outputId": "418cf7c2-ef5c-481e-e9e0-ff0cc0839426"
      },
      "execution_count": null,
      "outputs": [
        {
          "data": {
            "text/plain": [
              "tensor([[ 1.,  2.,  3.,  4.,  5.],\n",
              "        [ 6.,  7.,  8.,  9., 10.]])"
            ]
          },
          "execution_count": 42,
          "metadata": {},
          "output_type": "execute_result"
        }
      ]
    },
    {
      "cell_type": "code",
      "source": [
        "# Changing z changes x as well because the view of a tensor shares the same memory as the original tensor does\n",
        "z[0][1] = -2\n",
        "z, x"
      ],
      "metadata": {
        "colab": {
          "base_uri": "https://localhost:8080/"
        },
        "id": "REUMcRXe0nMC",
        "outputId": "493bc7bc-2165-464d-a56e-70d4eb94e6f7"
      },
      "execution_count": null,
      "outputs": [
        {
          "data": {
            "text/plain": [
              "(tensor([[ 1., -2.,  3.,  4.,  5.],\n",
              "         [ 6.,  7.,  8.,  9., 10.]]),\n",
              " tensor([ 1., -2.,  3.,  4.,  5.,  6.,  7.,  8.,  9., 10.]))"
            ]
          },
          "execution_count": 43,
          "metadata": {},
          "output_type": "execute_result"
        }
      ]
    },
    {
      "cell_type": "code",
      "source": [
        "# Stack tensors on top of each other\n",
        "x_stacked = torch.stack([x, x], dim=1) # dim = 0(hstack), dim = 1(vstack)\n",
        "x_stacked"
      ],
      "metadata": {
        "colab": {
          "base_uri": "https://localhost:8080/"
        },
        "id": "6PnciDXk0wAO",
        "outputId": "cc6a0b04-f884-4e72-ed96-c490fa017893"
      },
      "execution_count": null,
      "outputs": [
        {
          "data": {
            "text/plain": [
              "tensor([[ 1.,  1.],\n",
              "        [-2., -2.],\n",
              "        [ 3.,  3.],\n",
              "        [ 4.,  4.],\n",
              "        [ 5.,  5.],\n",
              "        [ 6.,  6.],\n",
              "        [ 7.,  7.],\n",
              "        [ 8.,  8.],\n",
              "        [ 9.,  9.],\n",
              "        [10., 10.]])"
            ]
          },
          "execution_count": 44,
          "metadata": {},
          "output_type": "execute_result"
        }
      ]
    },
    {
      "cell_type": "code",
      "source": [
        "## torch.squeeze() -> removes all single dimensions from a target tensor\n",
        "x_reshaped, x_reshaped.squeeze()"
      ],
      "metadata": {
        "colab": {
          "base_uri": "https://localhost:8080/"
        },
        "id": "o3hGGB7C1Gij",
        "outputId": "feca0012-6f44-4925-befd-b56c6fb8dd87"
      },
      "execution_count": null,
      "outputs": [
        {
          "data": {
            "text/plain": [
              "(tensor([[[[ 1.],\n",
              "           [-2.]]],\n",
              " \n",
              " \n",
              "         [[[ 3.],\n",
              "           [ 4.]]],\n",
              " \n",
              " \n",
              "         [[[ 5.],\n",
              "           [ 6.]]],\n",
              " \n",
              " \n",
              "         [[[ 7.],\n",
              "           [ 8.]]],\n",
              " \n",
              " \n",
              "         [[[ 9.],\n",
              "           [10.]]]]),\n",
              " tensor([[ 1., -2.],\n",
              "         [ 3.,  4.],\n",
              "         [ 5.,  6.],\n",
              "         [ 7.,  8.],\n",
              "         [ 9., 10.]]))"
            ]
          },
          "execution_count": 45,
          "metadata": {},
          "output_type": "execute_result"
        }
      ]
    },
    {
      "cell_type": "code",
      "source": [
        "## torch.unsqueeze() -> adds a single dimension at a particular dim for a target tensor\n",
        "x_reshaped.squeeze().unsqueeze(dim=1)"
      ],
      "metadata": {
        "colab": {
          "base_uri": "https://localhost:8080/"
        },
        "id": "MNwei4UhM9nt",
        "outputId": "df074484-260e-4a4a-f63a-ea3fa9e64716"
      },
      "execution_count": null,
      "outputs": [
        {
          "data": {
            "text/plain": [
              "tensor([[[ 1., -2.]],\n",
              "\n",
              "        [[ 3.,  4.]],\n",
              "\n",
              "        [[ 5.,  6.]],\n",
              "\n",
              "        [[ 7.,  8.]],\n",
              "\n",
              "        [[ 9., 10.]]])"
            ]
          },
          "execution_count": 46,
          "metadata": {},
          "output_type": "execute_result"
        }
      ]
    },
    {
      "cell_type": "markdown",
      "source": [
        "## ***Note:*** torch.permute shares the same memory with the original tensor. So, if you make nay changes in the cell item of permute,  the x_original will also change."
      ],
      "metadata": {
        "id": "JPM45DJROVRv"
      }
    },
    {
      "cell_type": "code",
      "source": [
        "# torch.permute() -> rearranges the dimensions of a target tensor in a specified order\n",
        "x_original = torch.rand(244, 244, 3) # height, width, RBG\n",
        "\n",
        "x_permuted = x_original.permute(2, 0, 1) # RBG, height, width\n",
        "x_permuted.shape"
      ],
      "metadata": {
        "colab": {
          "base_uri": "https://localhost:8080/"
        },
        "id": "LKwaRpuMNUqe",
        "outputId": "9cb9d306-992b-43bd-930f-7581c53adcfa"
      },
      "execution_count": null,
      "outputs": [
        {
          "data": {
            "text/plain": [
              "torch.Size([3, 244, 244])"
            ]
          },
          "execution_count": 47,
          "metadata": {},
          "output_type": "execute_result"
        }
      ]
    },
    {
      "cell_type": "markdown",
      "source": [
        "## Indexing(selecting data from tensors)\n",
        "\n",
        "Indexing with PyTorch is ismilar to indexing with NumPy."
      ],
      "metadata": {
        "id": "nTLut7e3PWrx"
      }
    },
    {
      "cell_type": "code",
      "source": [
        "# Create a tensor\n",
        "x = torch.arange(1, 10).reshape(1, 3, 3)\n",
        "x"
      ],
      "metadata": {
        "colab": {
          "base_uri": "https://localhost:8080/"
        },
        "id": "byhFYIcRP789",
        "outputId": "6460da53-66b9-43a8-fcf1-b518d72cf25d"
      },
      "execution_count": null,
      "outputs": [
        {
          "data": {
            "text/plain": [
              "tensor([[[1, 2, 3],\n",
              "         [4, 5, 6],\n",
              "         [7, 8, 9]]])"
            ]
          },
          "execution_count": 48,
          "metadata": {},
          "output_type": "execute_result"
        }
      ]
    },
    {
      "cell_type": "markdown",
      "source": [
        "You can also use **':'**to select **all**"
      ],
      "metadata": {
        "id": "v1M1KdVVQZLO"
      }
    },
    {
      "cell_type": "code",
      "source": [
        "# get all the values of the 0th and 1st dimension but only index 1 of the 2nd dimension\n",
        "x[:, :, 1]"
      ],
      "metadata": {
        "colab": {
          "base_uri": "https://localhost:8080/"
        },
        "id": "vu8XGIuTQS2m",
        "outputId": "db4da277-e1c4-4781-e309-8c6c44f1ec94"
      },
      "execution_count": null,
      "outputs": [
        {
          "data": {
            "text/plain": [
              "tensor([[2, 5, 8]])"
            ]
          },
          "execution_count": 49,
          "metadata": {},
          "output_type": "execute_result"
        }
      ]
    },
    {
      "cell_type": "code",
      "source": [
        "# Get all the values of the 0th dimension but only index 1 of 1st and 2nd dimensions\n",
        "x[:, 1, 1]"
      ],
      "metadata": {
        "colab": {
          "base_uri": "https://localhost:8080/"
        },
        "id": "FPJmdsG2Qw7i",
        "outputId": "12a8326f-589b-465a-e81e-d3325b0ddcae"
      },
      "execution_count": null,
      "outputs": [
        {
          "data": {
            "text/plain": [
              "tensor([5])"
            ]
          },
          "execution_count": 50,
          "metadata": {},
          "output_type": "execute_result"
        }
      ]
    },
    {
      "cell_type": "code",
      "source": [
        "# Get index 0 of the 0th and 1st dimension and all values of the 2nd dimension\n",
        "x[0, 0, :]"
      ],
      "metadata": {
        "colab": {
          "base_uri": "https://localhost:8080/"
        },
        "id": "YatuIvK1RDIE",
        "outputId": "3c5ca968-1fa3-4d01-96e8-14b2bc89693a"
      },
      "execution_count": null,
      "outputs": [
        {
          "data": {
            "text/plain": [
              "tensor([1, 2, 3])"
            ]
          },
          "execution_count": 51,
          "metadata": {},
          "output_type": "execute_result"
        }
      ]
    },
    {
      "cell_type": "markdown",
      "source": [
        "## PyTorch tensors and NumPy\n",
        "\n",
        "NumPy is a popular scientific Python numerical computing library.\n",
        "And because of this, PyTorch has functionality to interact with it.\n",
        "\n",
        "* Convert data in NumPy to PyTorch tensor -> use `torch.from_numpy(ndarray)`\n",
        "* Convert PyTorch tensor to NumPy -> use `torch.Tensor.numpy()`"
      ],
      "metadata": {
        "id": "F0JAQk6BR51G"
      }
    },
    {
      "cell_type": "code",
      "source": [
        "# NumPy array to tensor\n",
        "import numpy as np\n",
        "\n",
        "array = np.arange(1.0, 8.0)\n",
        "tensor = torch.from_numpy(array)\n",
        "array, tensor"
      ],
      "metadata": {
        "id": "tZ1zFp9KRL1V",
        "colab": {
          "base_uri": "https://localhost:8080/"
        },
        "outputId": "277231fc-13d5-4881-8337-1d6064d15281"
      },
      "execution_count": null,
      "outputs": [
        {
          "data": {
            "text/plain": [
              "(array([1., 2., 3., 4., 5., 6., 7.]),\n",
              " tensor([1., 2., 3., 4., 5., 6., 7.], dtype=torch.float64))"
            ]
          },
          "execution_count": 52,
          "metadata": {},
          "output_type": "execute_result"
        }
      ]
    },
    {
      "cell_type": "code",
      "source": [
        "array.dtype, tensor.dtype # The tensor takes the default datatype of the numpy(float64) unless, stated otherwise."
      ],
      "metadata": {
        "colab": {
          "base_uri": "https://localhost:8080/"
        },
        "id": "cPSeK1NRS7Mj",
        "outputId": "6c2f8f01-1ba4-4700-b1e3-e472014a0a6b"
      },
      "execution_count": null,
      "outputs": [
        {
          "data": {
            "text/plain": [
              "(dtype('float64'), torch.float64)"
            ]
          },
          "execution_count": 53,
          "metadata": {},
          "output_type": "execute_result"
        }
      ]
    },
    {
      "cell_type": "code",
      "source": [
        "array = array + 1\n",
        "array, tensor"
      ],
      "metadata": {
        "colab": {
          "base_uri": "https://localhost:8080/"
        },
        "id": "opW9xs34TiQz",
        "outputId": "1c372729-daff-4a12-cfb2-d22865665c31"
      },
      "execution_count": null,
      "outputs": [
        {
          "data": {
            "text/plain": [
              "(array([2., 3., 4., 5., 6., 7., 8.]),\n",
              " tensor([1., 2., 3., 4., 5., 6., 7.], dtype=torch.float64))"
            ]
          },
          "execution_count": 54,
          "metadata": {},
          "output_type": "execute_result"
        }
      ]
    },
    {
      "cell_type": "code",
      "source": [
        "# Change the value of array and see if it changes the value of tensor\n",
        "# If not, means they do not share the same memory.\n",
        "\n",
        "array[2] = 100\n",
        "array, tensor"
      ],
      "metadata": {
        "colab": {
          "base_uri": "https://localhost:8080/"
        },
        "id": "W9tmGsJZTJsY",
        "outputId": "1b5426c6-5353-446a-9639-d6911db14fbc"
      },
      "execution_count": null,
      "outputs": [
        {
          "data": {
            "text/plain": [
              "(array([  2.,   3., 100.,   5.,   6.,   7.,   8.]),\n",
              " tensor([1., 2., 3., 4., 5., 6., 7.], dtype=torch.float64))"
            ]
          },
          "execution_count": 55,
          "metadata": {},
          "output_type": "execute_result"
        }
      ]
    },
    {
      "cell_type": "code",
      "source": [
        "# Tensor to NumPy\n",
        "tensor = torch.zeros(7)\n",
        "numpy_tensor = tensor.numpy()\n",
        "tensor, numpy_tensor"
      ],
      "metadata": {
        "colab": {
          "base_uri": "https://localhost:8080/"
        },
        "id": "MrCVr8zAT9zd",
        "outputId": "86e379bc-c0ea-45ad-e972-67bb306bec65"
      },
      "execution_count": null,
      "outputs": [
        {
          "data": {
            "text/plain": [
              "(tensor([0., 0., 0., 0., 0., 0., 0.]),\n",
              " array([0., 0., 0., 0., 0., 0., 0.], dtype=float32))"
            ]
          },
          "execution_count": 56,
          "metadata": {},
          "output_type": "execute_result"
        }
      ]
    },
    {
      "cell_type": "code",
      "source": [
        "numpy_tensor.dtype"
      ],
      "metadata": {
        "colab": {
          "base_uri": "https://localhost:8080/"
        },
        "id": "sQZIiDk2UNfv",
        "outputId": "2ad6c6f6-f64f-4a1d-b1e4-ef7ee0939271"
      },
      "execution_count": null,
      "outputs": [
        {
          "data": {
            "text/plain": [
              "dtype('float32')"
            ]
          },
          "execution_count": 57,
          "metadata": {},
          "output_type": "execute_result"
        }
      ]
    },
    {
      "cell_type": "code",
      "source": [
        "tensor[2] = 100\n",
        "tensor, numpy_tensor"
      ],
      "metadata": {
        "colab": {
          "base_uri": "https://localhost:8080/"
        },
        "id": "c9gXdL0yUc_0",
        "outputId": "06b5bc31-e021-433b-d139-82c5e007ab6b"
      },
      "execution_count": null,
      "outputs": [
        {
          "data": {
            "text/plain": [
              "(tensor([  0.,   0., 100.,   0.,   0.,   0.,   0.]),\n",
              " array([  0.,   0., 100.,   0.,   0.,   0.,   0.], dtype=float32))"
            ]
          },
          "execution_count": 58,
          "metadata": {},
          "output_type": "execute_result"
        }
      ]
    },
    {
      "cell_type": "code",
      "source": [
        "# Change the tensor, what happens to the numpy_tensor\n",
        "tensor = tensor + 1\n",
        "tensor, numpy_tensor"
      ],
      "metadata": {
        "colab": {
          "base_uri": "https://localhost:8080/"
        },
        "id": "LkhCmeOwUQi0",
        "outputId": "60cce5af-163a-4786-a29d-255bf33706e4"
      },
      "execution_count": null,
      "outputs": [
        {
          "data": {
            "text/plain": [
              "(tensor([  1.,   1., 101.,   1.,   1.,   1.,   1.]),\n",
              " array([  0.,   0., 100.,   0.,   0.,   0.,   0.], dtype=float32))"
            ]
          },
          "execution_count": 59,
          "metadata": {},
          "output_type": "execute_result"
        }
      ]
    },
    {
      "cell_type": "markdown",
      "source": [
        "## Reproducibility\n",
        "\n",
        "In short how neural network learns:\n",
        "\n",
        "`start with random numbers -> tensor operations -> update the random numbers to try and make them better represent the data -> again -> again ....`\n",
        "\n",
        "To reduce the randomness in neural networks and PyTorch comes the concept of **random seed.**\n",
        "\n",
        "Reproducibility in PyTorch ensures that the **results of your code are the same every time you run it**. This is important for debugging, testing, and comparing different models."
      ],
      "metadata": {
        "id": "XKPRcuHtbr5g"
      }
    },
    {
      "cell_type": "code",
      "source": [
        "# Create 2 random tensors\n",
        "tensor_A = torch.rand(3, 4)\n",
        "tensor_B = torch.rand(3, 4)\n",
        "tensor_A == tensor_B"
      ],
      "metadata": {
        "colab": {
          "base_uri": "https://localhost:8080/"
        },
        "id": "eES_q7Ivbmtn",
        "outputId": "7df8731e-0ca9-4d3a-d890-6d2715c6e850"
      },
      "execution_count": null,
      "outputs": [
        {
          "data": {
            "text/plain": [
              "tensor([[False, False, False, False],\n",
              "        [False, False, False, False],\n",
              "        [False, False, False, False]])"
            ]
          },
          "execution_count": 60,
          "metadata": {},
          "output_type": "execute_result"
        }
      ]
    },
    {
      "cell_type": "code",
      "source": [
        "# Set the random seed\n",
        "RANDOM_SEED = 42\n",
        "\n",
        "torch.manual_seed(RANDOM_SEED)\n",
        "tensor_A = torch.rand(3, 4)\n",
        "\n",
        "torch.manual_seed(RANDOM_SEED)\n",
        "tensor_B = torch.rand(3, 4)\n",
        "\n",
        "tensor_A == tensor_B"
      ],
      "metadata": {
        "colab": {
          "base_uri": "https://localhost:8080/"
        },
        "id": "hnII-thKcZ2p",
        "outputId": "ce48b72a-0789-4ad8-e70f-569f095e4750"
      },
      "execution_count": null,
      "outputs": [
        {
          "data": {
            "text/plain": [
              "tensor([[True, True, True, True],\n",
              "        [True, True, True, True],\n",
              "        [True, True, True, True]])"
            ]
          },
          "execution_count": 61,
          "metadata": {},
          "output_type": "execute_result"
        }
      ]
    },
    {
      "cell_type": "markdown",
      "source": [
        "## Running tensors and PyTorch objects on the GPUs(and making faster computations)\n",
        "\n",
        "GPUs = Faster computation on numbers, using CUDA + NVIDIA hardware + PyTorch working behind the scenes to make everything good and quick."
      ],
      "metadata": {
        "id": "FhkPPMqN0GQ6"
      }
    },
    {
      "cell_type": "markdown",
      "source": [
        "### 1. Getting a GPU\n",
        "\n",
        "1. Use Google Colab for a free GPU (options to upgrade as well).\n",
        "2. Use your own GPU - takes a little bit of more setup and requires the investment of purchasing a GPU.\n",
        "3. Use Cloud Computing - GCP, AWS, Azure.. these services allow you t rent computers on the cloud and access them.  \n"
      ],
      "metadata": {
        "id": "49E8L3K60s5q"
      }
    },
    {
      "cell_type": "code",
      "source": [
        "!nvidia-smi"
      ],
      "metadata": {
        "colab": {
          "base_uri": "https://localhost:8080/"
        },
        "id": "zYGlGMLO0mQC",
        "outputId": "267d7bdd-f9a1-4f73-e61f-b26db9f155e0"
      },
      "execution_count": null,
      "outputs": [
        {
          "metadata": {
            "tags": null
          },
          "name": "stdout",
          "output_type": "stream",
          "text": [
            "Fri Oct  4 11:02:51 2024       \n",
            "+---------------------------------------------------------------------------------------+\n",
            "| NVIDIA-SMI 535.104.05             Driver Version: 535.104.05   CUDA Version: 12.2     |\n",
            "|-----------------------------------------+----------------------+----------------------+\n",
            "| GPU  Name                 Persistence-M | Bus-Id        Disp.A | Volatile Uncorr. ECC |\n",
            "| Fan  Temp   Perf          Pwr:Usage/Cap |         Memory-Usage | GPU-Util  Compute M. |\n",
            "|                                         |                      |               MIG M. |\n",
            "|=========================================+======================+======================|\n",
            "|   0  Tesla T4                       Off | 00000000:00:04.0 Off |                    0 |\n",
            "| N/A   44C    P8              13W /  70W |      0MiB / 15360MiB |      0%      Default |\n",
            "|                                         |                      |                  N/A |\n",
            "+-----------------------------------------+----------------------+----------------------+\n",
            "                                                                                         \n",
            "+---------------------------------------------------------------------------------------+\n",
            "| Processes:                                                                            |\n",
            "|  GPU   GI   CI        PID   Type   Process name                            GPU Memory |\n",
            "|        ID   ID                                                             Usage      |\n",
            "|=======================================================================================|\n",
            "|  No running processes found                                                           |\n",
            "+---------------------------------------------------------------------------------------+\n"
          ]
        }
      ]
    },
    {
      "cell_type": "markdown",
      "source": [
        "## 2. Check for GPU access with PyTorch\n"
      ],
      "metadata": {
        "id": "MH2EbV4Y3aL4"
      }
    },
    {
      "cell_type": "code",
      "source": [
        "import torch\n",
        "torch.cuda.is_available()"
      ],
      "metadata": {
        "colab": {
          "base_uri": "https://localhost:8080/"
        },
        "id": "MMc1hFYE3UF2",
        "outputId": "227f19c1-04a8-4e41-a2a0-99fac83daf21"
      },
      "execution_count": null,
      "outputs": [
        {
          "data": {
            "text/plain": [
              "True"
            ]
          },
          "execution_count": 63,
          "metadata": {},
          "output_type": "execute_result"
        }
      ]
    },
    {
      "cell_type": "code",
      "source": [
        "# Setup device agnoistic code\n",
        "device = \"cuda\" if torch.cuda.is_available() else \"cpu\"\n",
        "device"
      ],
      "metadata": {
        "colab": {
          "base_uri": "https://localhost:8080/",
          "height": 36
        },
        "id": "YIm-cBGN3nXB",
        "outputId": "b5c6d188-2484-4ec4-e0db-64d172a27894"
      },
      "execution_count": null,
      "outputs": [
        {
          "data": {
            "application/vnd.google.colaboratory.intrinsic+json": {
              "type": "string"
            },
            "text/plain": [
              "'cuda'"
            ]
          },
          "execution_count": 64,
          "metadata": {},
          "output_type": "execute_result"
        }
      ]
    },
    {
      "cell_type": "code",
      "source": [
        "# Count the number of devices\n",
        "torch.cuda.device_count()"
      ],
      "metadata": {
        "colab": {
          "base_uri": "https://localhost:8080/"
        },
        "id": "kokFcv_U31I3",
        "outputId": "e65737bb-42bc-444e-9ad3-621caa86ba4c"
      },
      "execution_count": null,
      "outputs": [
        {
          "data": {
            "text/plain": [
              "1"
            ]
          },
          "execution_count": 65,
          "metadata": {},
          "output_type": "execute_result"
        }
      ]
    },
    {
      "cell_type": "markdown",
      "source": [
        "## 3. Putting tensors (and models) on the  GPU\n",
        "The reason we want our tensors/models on the GPU is because using a GPU results in faster computations."
      ],
      "metadata": {
        "id": "zoDKqfW36aZU"
      }
    },
    {
      "cell_type": "code",
      "source": [
        " # Create a tensor (default on the CPU)\n",
        "tensor = torch.tensor([1, 2, 3])\n",
        "\n",
        "# Tensor not on GPU\n",
        "print(tensor, tensor.device)"
      ],
      "metadata": {
        "colab": {
          "base_uri": "https://localhost:8080/"
        },
        "id": "h3pe3ZhR39ju",
        "outputId": "70f79f6d-3512-4c6b-eff2-949f47e46a45"
      },
      "execution_count": null,
      "outputs": [
        {
          "metadata": {
            "tags": null
          },
          "name": "stdout",
          "output_type": "stream",
          "text": [
            "tensor([1, 2, 3]) cpu\n"
          ]
        }
      ]
    },
    {
      "cell_type": "code",
      "source": [
        "# Move the tensor to GPU (if available)\n",
        "tensor_on_gpu = tensor.to(device)\n",
        "tensor_on_gpu"
      ],
      "metadata": {
        "colab": {
          "base_uri": "https://localhost:8080/"
        },
        "id": "5FqLxKWJ7_6D",
        "outputId": "de5fc195-bc68-4b74-cd9e-3b8765874cd6"
      },
      "execution_count": null,
      "outputs": [
        {
          "data": {
            "text/plain": [
              "tensor([1, 2, 3], device='cuda:0')"
            ]
          },
          "execution_count": 67,
          "metadata": {},
          "output_type": "execute_result"
        }
      ]
    },
    {
      "cell_type": "markdown",
      "source": [
        "## 4. Moving tensors back to the CPU\n",
        "\n",
        "**Note:** Numpy doesn't work with the GPU.\n",
        "\n"
      ],
      "metadata": {
        "id": "09gODG2S8bdA"
      }
    },
    {
      "cell_type": "code",
      "source": [
        "tensor_on_gpu.numpy()"
      ],
      "metadata": {
        "colab": {
          "base_uri": "https://localhost:8080/",
          "height": 141
        },
        "id": "6-Wpa3Lc8ZUC",
        "outputId": "58838a09-5de1-4d42-c4c9-34d3aa6beaac"
      },
      "execution_count": null,
      "outputs": [
        {
          "ename": "TypeError",
          "evalue": "can't convert cuda:0 device type tensor to numpy. Use Tensor.cpu() to copy the tensor to host memory first.",
          "output_type": "error",
          "traceback": [
            "\u001b[0;31m---------------------------------------------------------------------------\u001b[0m",
            "\u001b[0;31mTypeError\u001b[0m                                 Traceback (most recent call last)",
            "\u001b[0;32m<ipython-input-68-e0c96c7436fd>\u001b[0m in \u001b[0;36m<cell line: 1>\u001b[0;34m()\u001b[0m\n\u001b[0;32m----> 1\u001b[0;31m \u001b[0mtensor_on_gpu\u001b[0m\u001b[0;34m.\u001b[0m\u001b[0mnumpy\u001b[0m\u001b[0;34m(\u001b[0m\u001b[0;34m)\u001b[0m\u001b[0;34m\u001b[0m\u001b[0;34m\u001b[0m\u001b[0m\n\u001b[0m",
            "\u001b[0;31mTypeError\u001b[0m: can't convert cuda:0 device type tensor to numpy. Use Tensor.cpu() to copy the tensor to host memory first."
          ]
        }
      ]
    },
    {
      "cell_type": "code",
      "source": [
        "# To fix the GPU tensor with NumPy issue, we can first set it to the CPU\n",
        "tensor_back_on_cpu = tensor_on_gpu.cpu().numpy()\n",
        "tensor_back_on_cpu"
      ],
      "metadata": {
        "id": "2-Q7nJI38gsD"
      },
      "execution_count": null,
      "outputs": []
    }
  ]
}