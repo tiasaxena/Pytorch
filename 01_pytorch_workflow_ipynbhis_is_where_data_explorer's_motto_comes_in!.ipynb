{
  "nbformat": 4,
  "nbformat_minor": 0,
  "metadata": {
    "colab": {
      "provenance": []
    },
    "kernelspec": {
      "name": "python3",
      "display_name": "Python 3"
    },
    "language_info": {
      "name": "python"
    }
  },
  "cells": [
    {
      "cell_type": "markdown",
      "source": [
        "# ChatGPT seaches for 01 module - [link](https://chatgpt.com/share/ddc7b1f8-4631-4437-a54e-5c52f4eb8f26)"
      ],
      "metadata": {
        "id": "J1pu450FuhMN"
      }
    },
    {
      "cell_type": "markdown",
      "source": [
        "## Content covered\n",
        "\n",
        "1. data(prepare and load)\n",
        "2. build model\n",
        "3. fitting the model to the data(training)\n",
        "4. making predictions and evaluating the model(inference)\n",
        "5. saving and loading the model\n",
        "6. putting it all together"
      ],
      "metadata": {
        "id": "Ox9CGE7PEb_i"
      }
    },
    {
      "cell_type": "code",
      "execution_count": null,
      "metadata": {
        "colab": {
          "base_uri": "https://localhost:8080/",
          "height": 36
        },
        "id": "WMy49662Dv-d",
        "outputId": "9747fd33-9b0e-4692-fb31-869b266fccb1"
      },
      "outputs": [
        {
          "output_type": "execute_result",
          "data": {
            "text/plain": [
              "'2.4.0+cu121'"
            ],
            "application/vnd.google.colaboratory.intrinsic+json": {
              "type": "string"
            }
          },
          "metadata": {},
          "execution_count": 1
        }
      ],
      "source": [
        "import torch\n",
        "import matplotlib.pyplot as plt\n",
        "\n",
        "# Check PyTorch version\n",
        "torch.__version__"
      ]
    },
    {
      "cell_type": "markdown",
      "source": [
        "## 1. Data (preparing and loading)\n",
        "\n",
        "* Excel spreadsheet\n",
        "* Images\n",
        "* Videos\n",
        "* Audio\n",
        "* DNA\n",
        "* Text\n",
        "\n",
        "Machine learning ia a game of two parts:\n",
        "1. Get data into a numerical representation.\n",
        "2. Build a model to learn patterns in that numerical representation.\n",
        "\n",
        "To showcase this, let's create some *known* data using the linear regression formula.\n",
        "\n",
        "We'll use a linear regression formula to make a staright line with *known* **parameters.**"
      ],
      "metadata": {
        "id": "HKql32zBFX2R"
      }
    },
    {
      "cell_type": "code",
      "source": [
        "# Create *known* parameters\n",
        "weight = 0.7\n",
        "bias = 0.3\n",
        "\n",
        "# Create\n",
        "start = 0\n",
        "end = 1\n",
        "step = 0.02\n",
        "X = torch.arange(start, end, step).unsqueeze(dim = 1)\n",
        "y = weight * X + bias\n",
        "\n",
        "X[:10], y[:10]"
      ],
      "metadata": {
        "colab": {
          "base_uri": "https://localhost:8080/"
        },
        "id": "Br81ZF5nFWZD",
        "outputId": "d0a674d8-e013-411a-b5ea-532323cc1c24"
      },
      "execution_count": null,
      "outputs": [
        {
          "output_type": "execute_result",
          "data": {
            "text/plain": [
              "(tensor([[0.0000],\n",
              "         [0.0200],\n",
              "         [0.0400],\n",
              "         [0.0600],\n",
              "         [0.0800],\n",
              "         [0.1000],\n",
              "         [0.1200],\n",
              "         [0.1400],\n",
              "         [0.1600],\n",
              "         [0.1800]]),\n",
              " tensor([[0.3000],\n",
              "         [0.3140],\n",
              "         [0.3280],\n",
              "         [0.3420],\n",
              "         [0.3560],\n",
              "         [0.3700],\n",
              "         [0.3840],\n",
              "         [0.3980],\n",
              "         [0.4120],\n",
              "         [0.4260]]))"
            ]
          },
          "metadata": {},
          "execution_count": 2
        }
      ]
    },
    {
      "cell_type": "code",
      "source": [
        "len(X), len(y)"
      ],
      "metadata": {
        "colab": {
          "base_uri": "https://localhost:8080/"
        },
        "id": "55slLip1IGNQ",
        "outputId": "f5872759-dd9b-4629-c8cc-1dcc2a1a9a9b"
      },
      "execution_count": null,
      "outputs": [
        {
          "output_type": "execute_result",
          "data": {
            "text/plain": [
              "(50, 50)"
            ]
          },
          "metadata": {},
          "execution_count": 3
        }
      ]
    },
    {
      "cell_type": "markdown",
      "source": [
        "### Splitting data into training and test sets\n",
        "\n",
        "Let's create a training and test set with our data."
      ],
      "metadata": {
        "id": "-Q-rgg_-KccE"
      }
    },
    {
      "cell_type": "code",
      "source": [
        "# Create a train/test split\n",
        "train_split = int(0.8 * len(X))\n",
        "X_train, y_train = X[:train_split], y[:train_split]\n",
        "X_test, y_test = X[train_split:], y[train_split:]\n",
        "\n",
        "len(X_train), len(y_train), len(X_test), len(y_test)"
      ],
      "metadata": {
        "colab": {
          "base_uri": "https://localhost:8080/"
        },
        "id": "3U52G2vaLLSy",
        "outputId": "5c9165c3-8109-4102-a3fa-28065b120191"
      },
      "execution_count": null,
      "outputs": [
        {
          "output_type": "execute_result",
          "data": {
            "text/plain": [
              "(40, 40, 10, 10)"
            ]
          },
          "metadata": {},
          "execution_count": 4
        }
      ]
    },
    {
      "cell_type": "markdown",
      "source": [
        "## Visualizing data"
      ],
      "metadata": {
        "id": "rnmrW6anV0xU"
      }
    },
    {
      "cell_type": "code",
      "source": [
        "def plot_predictions(train_data=X_train,\n",
        "                      train_labels=y_train,\n",
        "                      test_data=X_test,\n",
        "                      test_labels=y_test,\n",
        "                      predictions=None):\n",
        "  \"\"\"\n",
        "  Plots training data, test data, and compare predictions.\n",
        "  \"\"\"\n",
        "  plt.figure(figsize=(10, 7))\n",
        "\n",
        "  # Plot training data in blue\n",
        "  plt.scatter(train_data, train_labels, c=\"b\", s=4, label=\"Training data\")\n",
        "\n",
        "  # Plot test data in green\n",
        "  plt.scatter(test_data, test_labels, c=\"g\", s=4, label=\"Test data\")\n",
        "\n",
        "  # Are there predictions?\n",
        "  if predictions is not None:\n",
        "    # Plot training data in red\n",
        "    plt.scatter(test_data, predictions, c=\"r\", s=4, label=\"Prediction\")\n",
        "\n",
        "  # Show the legend\n",
        "  plt.legend(prop={\"size\": 16})"
      ],
      "metadata": {
        "id": "HDCkMk0XWMuH"
      },
      "execution_count": null,
      "outputs": []
    },
    {
      "cell_type": "code",
      "source": [
        "plot_predictions()"
      ],
      "metadata": {
        "colab": {
          "base_uri": "https://localhost:8080/",
          "height": 599
        },
        "id": "Z6AnE4XVZXlM",
        "outputId": "e0b8f78d-2b1b-4b4c-dacf-b2a3499b8f91"
      },
      "execution_count": null,
      "outputs": [
        {
          "output_type": "display_data",
          "data": {
            "text/plain": [
              "<Figure size 1000x700 with 1 Axes>"
            ],
            "image/png": "[encoded data removed]"
          },
          "metadata": {}
        }
      ]
    },
    {
      "cell_type": "markdown",
      "source": [
        "## Build Model\n",
        "\n",
        "1. OOP - [link](https://realpython.com/python3-object-oriented-programming/)\n",
        "\n",
        "2. What our model does?\n",
        " * Starts with random values of weight and bias.\n",
        " * Look at the training data and adjust the random values to better represent/get closer to the ideal values(the weight and bias values used to create the data, 0.7 and 0.3 respectively)\n",
        "\n",
        " 3. How does it do so?\n",
        "  \n",
        "  Through two main algorithm:\n",
        "    * Gradient Descent\n",
        "    * Backpropagation  "
      ],
      "metadata": {
        "id": "bClezQa4WyLN"
      }
    },
    {
      "cell_type": "code",
      "source": [
        "from torch import nn # nn contains all of PyTorch's building blocks for NN\n",
        "\n",
        "# Create linear regression model class\n",
        "class LinearRegressionModel(nn.Module): # <- almost everything in Pytorch inherits from nn.Module\n",
        "  def __init__(self):\n",
        "    super().__init__()\n",
        "\n",
        "    # Initialize the model parameters\n",
        "    self.weights = nn.Parameter(torch.randn(1,\n",
        "                                           requires_grad=True,\n",
        "                                           dtype=torch.float))\n",
        "    self.bias = nn.Parameter(torch.randn(1,\n",
        "                                         requires_grad=True,\n",
        "                                         dtype=torch.float))\n",
        "\n",
        "  # NOTE: If you are using nn.Module it is necessary to override the `forward` method to define what should happen in forward propagation of the model\n",
        "  # Forward method to define the computation in the model\n",
        "  def forward(self, x: torch.Tensor) -> torch.Tensor: # <- 'x' is the parameter\n",
        "    return self.weights * x + self.bias # This is the linear regression formula\n"
      ],
      "metadata": {
        "id": "VX5jlMps57JR"
      },
      "execution_count": null,
      "outputs": []
    },
    {
      "cell_type": "markdown",
      "source": [
        "## PyTorch model building essentials\n",
        "\n",
        "* **torch.nn** - contains all of the building blocks for **computational graphs**, also called as **neural network**.\n",
        "* **torch.nn.Parameter** - what parameter should our model try and learn, often a PyTorch layer from torch.nn will set these for us\n",
        "* **torch.nn.Module** - The base class for all neural networks module, **if you subclass it, overwrite the forward method**.\n",
        "* **torch.optim**  - this is where the optimizers in pytorch lives, they will help with gradient descent\n",
        "* **def forward()** - All nn.Module subclasses require you to overwrite forward(), this method defines what will happen in the forward computation."
      ],
      "metadata": {
        "id": "_F4DdcykydEs"
      }
    },
    {
      "cell_type": "markdown",
      "source": [
        "## Checking the contents of our PyTorch model\n",
        "\n",
        "Now we've created a model, let's see what's inside...\n",
        "\n",
        "So we can check our model parameters or what's inside our model using `.parameters()`."
      ],
      "metadata": {
        "id": "b44wwluF1bJF"
      }
    },
    {
      "cell_type": "code",
      "source": [
        "# Create a random seed\n",
        "torch.manual_seed(42)\n",
        "\n",
        "# Create an instance of the model (this is a subclass of nn.Module)\n",
        "model_0 = LinearRegressionModel()\n",
        "\n",
        "# Check out the parameters\n",
        "list(model_0.parameters())"
      ],
      "metadata": {
        "colab": {
          "base_uri": "https://localhost:8080/"
        },
        "id": "U3uhcmZ8YNPs",
        "outputId": "f6053811-8354-4078-a43a-2c8569438167"
      },
      "execution_count": null,
      "outputs": [
        {
          "output_type": "execute_result",
          "data": {
            "text/plain": [
              "[Parameter containing:\n",
              " tensor([0.3367], requires_grad=True),\n",
              " Parameter containing:\n",
              " tensor([0.1288], requires_grad=True)]"
            ]
          },
          "metadata": {},
          "execution_count": 8
        }
      ]
    },
    {
      "cell_type": "code",
      "source": [
        "# List names parameters\n",
        "model_0.state_dict()"
      ],
      "metadata": {
        "colab": {
          "base_uri": "https://localhost:8080/"
        },
        "id": "rEr0qfXs2Y00",
        "outputId": "c84046c1-4e1c-423e-f026-f16ba2020fd8"
      },
      "execution_count": null,
      "outputs": [
        {
          "output_type": "execute_result",
          "data": {
            "text/plain": [
              "OrderedDict([('weights', tensor([0.3367])), ('bias', tensor([0.1288]))])"
            ]
          },
          "metadata": {},
          "execution_count": 9
        }
      ]
    },
    {
      "cell_type": "markdown",
      "source": [
        "### Making prediction using `torch.inference_mode()`\n",
        "\n",
        "To check our model's predictive power, let's see how well it predicts `y_test` based on `x_test`\n",
        "\n",
        "When we pass data through our model, its going to run it through the `forward()` method.\n",
        "\n",
        "We can use no_grad() also instead of inference_mode(), but inference_mode() is preferred -> [Reason](https://x.com/pytorch/status/1437838231505096708?lang=en)"
      ],
      "metadata": {
        "id": "rUUDj7PbXzLO"
      }
    },
    {
      "cell_type": "code",
      "source": [
        "# Make prediction with model\n",
        "with torch.inference_mode(): # <- `torch.inference_mode()` is a context manager which is used to simply specify that the gradient now does not need to taken a track of(as previously we used requires_grad=True)\n",
        "  y_preds = model_0(X_test)\n",
        "\n",
        "\n",
        "# We can use no_grad() also instead of inference_mode(), but inference_mode() is prefrred\n",
        "# Reason: https://x.com/pytorch/status/1437838231505096708?lang=en\n",
        "# with torch.no_grad():\n",
        "#   y_preds = model_0(X_test)\n",
        "\n",
        "y_preds"
      ],
      "metadata": {
        "colab": {
          "base_uri": "https://localhost:8080/"
        },
        "id": "CNYKxCTjYPel",
        "outputId": "48d86b46-27b6-4d13-e2fa-a8ff51e1c8ca"
      },
      "execution_count": null,
      "outputs": [
        {
          "output_type": "execute_result",
          "data": {
            "text/plain": [
              "tensor([[0.3982],\n",
              "        [0.4049],\n",
              "        [0.4116],\n",
              "        [0.4184],\n",
              "        [0.4251],\n",
              "        [0.4318],\n",
              "        [0.4386],\n",
              "        [0.4453],\n",
              "        [0.4520],\n",
              "        [0.4588]])"
            ]
          },
          "metadata": {},
          "execution_count": 10
        }
      ]
    },
    {
      "cell_type": "code",
      "source": [
        "# We can do directly also(without torch.inference_mode()), but it will be a problem for memory as a lot of gradients will be tracked... which we don't need in test data, for making predictions\n",
        "\n",
        "# y_preds = model_0(X_test)\n",
        "# y_preds\n",
        "\n",
        "# Output:\n",
        "# tensor([.......], grad_fn=<AddBackward0>)"
      ],
      "metadata": {
        "id": "X1cyfKt7bUq3"
      },
      "execution_count": null,
      "outputs": []
    },
    {
      "cell_type": "code",
      "source": [
        "plot_predictions(predictions=y_preds)"
      ],
      "metadata": {
        "colab": {
          "base_uri": "https://localhost:8080/",
          "height": 599
        },
        "id": "KWT8FR_h-Phi",
        "outputId": "20cd393e-e71c-46db-f53e-d94166d5ade7"
      },
      "execution_count": null,
      "outputs": [
        {
          "output_type": "display_data",
          "data": {
            "text/plain": [
              "<Figure size 1000x700 with 1 Axes>"
            ],
            "image/png": "[encoded data removed]"
          },
          "metadata": {}
        }
      ]
    },
    {
      "cell_type": "markdown",
      "source": [
        "## 3. Train Model\n",
        "\n",
        "The whole idea of training is for a model to move from some *unknown* parameters (these may be random) to some *known* parameters.\n",
        "\n",
        "Or in other words from a poor representation of the data to a better representation of the data.\n",
        "\n",
        "One way to measure how wrong or how poor your model's prediction are, is to use **loss function.**\n",
        "\n",
        "**NOTE:** Loss function is also called as a cost function, which is also called as a criterion.\n",
        "\n",
        "# Things we need to train:\n",
        "\n",
        "* **Loss Fcuntion:** A loss function is used to measure how wrong our model's is prediction to the ideal outputs, lower is better.  \n",
        "* **Optimizer:** Takes into account the loss of a model and adjusts the model's parameters (e.g., weight and bais) in our case to improve the loss function.\n",
        "  * Inside the optimizer, you will have to set 2 parameters:\n",
        "    * `params` - the model parameters you would like to optimize, for example `params=model_0.parameters()`\n",
        "    * `lr`(learning rate) - the learning rate is a hyperparameter that defines how big/small the optimizer changes the parameters with each step (a small `lr` results in small changes, a large `lr` results in large changes)\n",
        "\n",
        "And specifically for PyTorch we need:\n",
        "* training loop\n",
        "* testing loop."
      ],
      "metadata": {
        "id": "OxqzxeS_hGM6"
      }
    },
    {
      "cell_type": "code",
      "source": [
        "list(model_0.parameters())"
      ],
      "metadata": {
        "colab": {
          "base_uri": "https://localhost:8080/"
        },
        "id": "clcs_cRtg97-",
        "outputId": "734dbec5-a78e-4b02-9b37-051a5902b38f"
      },
      "execution_count": null,
      "outputs": [
        {
          "output_type": "execute_result",
          "data": {
            "text/plain": [
              "[Parameter containing:\n",
              " tensor([0.3367], requires_grad=True),\n",
              " Parameter containing:\n",
              " tensor([0.1288], requires_grad=True)]"
            ]
          },
          "metadata": {},
          "execution_count": 13
        }
      ]
    },
    {
      "cell_type": "code",
      "source": [
        "# Check out the model's parameters (a parameter is a value that the model sets itself and hypermeter is a value that we set ourselves such as in the learning rate)\n",
        "\n",
        "model_0.state_dict()"
      ],
      "metadata": {
        "id": "xhR1lny8mV1V",
        "colab": {
          "base_uri": "https://localhost:8080/"
        },
        "outputId": "9e7065d0-3a86-4a13-db2d-058f3bc9813d"
      },
      "execution_count": null,
      "outputs": [
        {
          "output_type": "execute_result",
          "data": {
            "text/plain": [
              "OrderedDict([('weights', tensor([0.3367])), ('bias', tensor([0.1288]))])"
            ]
          },
          "metadata": {},
          "execution_count": 14
        }
      ]
    },
    {
      "cell_type": "code",
      "source": [
        "# Setup a loss function\n",
        "loss_fn = nn.L1Loss()\n",
        "\n",
        "# Setup an optimizer (stochastic gradient descent)\n",
        "optimizer = torch.optim.SGD(params = model_0.parameters(), lr = 0.01) #lr = learning rate = possibly the most important hyperparameter you can set"
      ],
      "metadata": {
        "id": "DMz6sfOkm3MU"
      },
      "execution_count": null,
      "outputs": []
    },
    {
      "cell_type": "markdown",
      "source": [
        "**Q.** Which loss function and optimizer should I use?\n",
        "\n",
        "**A.** This will be problem specific. But with experience, you will get an idea of what works and what does not with your particular problem set.\n",
        "\n",
        "For example, a regression problem(like ours), a loss function of `nn.L1Loss()` and an optimizer like `torch.optim.SGD()` will suffice.\n",
        "\n",
        "But for a classification problem like classifying whether a photo is of a dog or a cat, you will likely want to use a loss function of `nn.BCELoss()`(binary cross entropy loss)."
      ],
      "metadata": {
        "id": "fXxTi1NEpXCC"
      }
    },
    {
      "cell_type": "markdown",
      "source": [
        "### Buliding a training loop and a testing loop in PyTorch\n",
        "\n",
        "Steps:\n",
        "0. Loop through the data and do...\n",
        "1. Forward pass (this involves data moving through our models' `forward()` function) - also called as forward propagation.\n",
        "2.Calculate the loss (compare forward pass predictions to ground truth labels)\n",
        "3. Optimizer zero grad - In training a neural network, the optimizer updates the model's parameters (weights) based on the gradients computed during backpropagation. However, by default, PyTorch accumulates these gradients each time backward() is called. This means that if we don’t reset (or \"zero out\") the gradients, the updates from previous iterations will be added to the current ones, leading to incorrect updates.\n",
        "4. Loss backward - move backwards through the network to calculate the gradients of each of the parameters of our model with respect to the loss (**backward propagation**)\n",
        "5. Optimizer step - use the optimizer to adjust our model;s parameters to try and improve the loss (**gradient descent**)"
      ],
      "metadata": {
        "id": "7y7tIj-CqknK"
      }
    },
    {
      "cell_type": "code",
      "source": [
        "# An epoch is one loop through the data... (it is a hyperparameter since we have set it ourselves)\n",
        "epochs = 200\n",
        "epoch_count = []\n",
        "loss_values = []\n",
        "test_loss_values = []\n",
        "\n",
        "### Training\n",
        "# 0. Loop through the data\n",
        "for epoch in range(epochs):\n",
        "  # Set the model to training mode\n",
        "  model_0.train() # it is a train mode in PyTorch where it sets all parameters that requires gradients to require gradients\n",
        "\n",
        "  # 1. Forward pass\n",
        "  y_pred = model_0(X_train)\n",
        "\n",
        "  # 2. Calculate the loss\n",
        "  loss = loss_fn(y_pred, y_train)\n",
        "\n",
        "\n",
        "  # 3. Optimizer zero grad\n",
        "  optimizer.zero_grad() # by default how the optimizer changes will accumulate through the loop so.. we have to 0 them above in step 3 for the next iteration of the loop\n",
        "\n",
        "  # 4. Perform backpropagation on  the loss wrt the parameters of the model\n",
        "  loss.backward()\n",
        "\n",
        "  # 5. Set the optimizer (perform gradient descent)\n",
        "  optimizer.step() # update the model parameters using the optimizer\n",
        "\n",
        "  ### Testing\n",
        "  model_0.eval() # turns off the different settings of the model not needed for evaluation/testing (dropout/batch norm layers)\n",
        "\n",
        "  # with torch.no_grad(): # older version used no_grad, now we use inference_mode()\n",
        "  with torch.inference_mode(): # turns off the gradient tracking and a coule of more things behind the scenes\n",
        "    # 1. Do the forward pass\n",
        "    test_pred = model_0(X_test)\n",
        "\n",
        "    # 2. Calculate the test loss\n",
        "    test_loss = loss_fn(test_pred, y_test)\n",
        "\n",
        "  if epoch % 10 == 0:\n",
        "    epoch_count.append(epoch)\n",
        "    loss_values.append(loss)\n",
        "    test_loss_values.append(test_loss)\n",
        "\n",
        "    print(f\"Epoch: {epoch} | Loss: {loss} | Test Loss: {test_loss}\")\n"
      ],
      "metadata": {
        "id": "DbyuHh3youPm",
        "colab": {
          "base_uri": "https://localhost:8080/"
        },
        "outputId": "ebb76ffb-5059-492a-ed68-78c0839709e6"
      },
      "execution_count": null,
      "outputs": [
        {
          "output_type": "stream",
          "name": "stdout",
          "text": [
            "Epoch: 0 | Loss: 0.31288138031959534 | Test Loss: 0.48106518387794495\n",
            "Epoch: 10 | Loss: 0.1976713240146637 | Test Loss: 0.3463551998138428\n",
            "Epoch: 20 | Loss: 0.08908725529909134 | Test Loss: 0.21729660034179688\n",
            "Epoch: 30 | Loss: 0.053148526698350906 | Test Loss: 0.14464017748832703\n",
            "Epoch: 40 | Loss: 0.04543796554207802 | Test Loss: 0.11360953003168106\n",
            "Epoch: 50 | Loss: 0.04167863354086876 | Test Loss: 0.09919948130846024\n",
            "Epoch: 60 | Loss: 0.03818932920694351 | Test Loss: 0.08886633068323135\n",
            "Epoch: 70 | Loss: 0.03476089984178543 | Test Loss: 0.0805937647819519\n",
            "Epoch: 80 | Loss: 0.03132382780313492 | Test Loss: 0.07232122868299484\n",
            "Epoch: 90 | Loss: 0.02788739837706089 | Test Loss: 0.06473556160926819\n",
            "Epoch: 100 | Loss: 0.024458957836031914 | Test Loss: 0.05646304413676262\n",
            "Epoch: 110 | Loss: 0.021020207554101944 | Test Loss: 0.04819049686193466\n",
            "Epoch: 120 | Loss: 0.01758546568453312 | Test Loss: 0.04060482233762741\n",
            "Epoch: 130 | Loss: 0.014155393466353416 | Test Loss: 0.03233227878808975\n",
            "Epoch: 140 | Loss: 0.010716589167714119 | Test Loss: 0.024059748277068138\n",
            "Epoch: 150 | Loss: 0.0072835334576666355 | Test Loss: 0.016474086791276932\n",
            "Epoch: 160 | Loss: 0.0038517764769494534 | Test Loss: 0.008201557211577892\n",
            "Epoch: 170 | Loss: 0.008932482451200485 | Test Loss: 0.005023092031478882\n",
            "Epoch: 180 | Loss: 0.008932482451200485 | Test Loss: 0.005023092031478882\n",
            "Epoch: 190 | Loss: 0.008932482451200485 | Test Loss: 0.005023092031478882\n"
          ]
        }
      ]
    },
    {
      "cell_type": "code",
      "source": [
        "import numpy as np\n",
        "\n",
        "# Plot the loss curves\n",
        "plt.plot(epoch_count, torch.tensor(loss_values).numpy(), label=\"Train Loss\")\n",
        "plt.plot(epoch_count, test_loss_values, label=\"Test Loss\")\n",
        "plt.title(\"Training and test loss curves\")\n",
        "plt.ylabel(\"Loss\")\n",
        "plt.xlabel(\"Epoch\")\n",
        "plt.legend()"
      ],
      "metadata": {
        "colab": {
          "base_uri": "https://localhost:8080/",
          "height": 490
        },
        "id": "HTwV3487Fv8p",
        "outputId": "edf8b16a-141a-4b9b-c5dc-69e4e7de09f3"
      },
      "execution_count": null,
      "outputs": [
        {
          "output_type": "execute_result",
          "data": {
            "text/plain": [
              "<matplotlib.legend.Legend at 0x7dcb0365f0d0>"
            ]
          },
          "metadata": {},
          "execution_count": 17
        },
        {
          "output_type": "display_data",
          "data": {
            "text/plain": [
              "<Figure size 640x480 with 1 Axes>"
            ],
            "image/png": "[encoded data removed]"
          },
          "metadata": {}
        }
      ]
    },
    {
      "cell_type": "code",
      "source": [
        "with torch.inference_mode():\n",
        "    y_preds_new = model_0(X_test)\n",
        "\n",
        "plot_predictions(predictions=y_preds_new)\n"
      ],
      "metadata": {
        "colab": {
          "base_uri": "https://localhost:8080/",
          "height": 599
        },
        "id": "5QZV1mCO9VdH",
        "outputId": "8eeb30b1-c738-4950-aec4-7f034d09f6ab"
      },
      "execution_count": null,
      "outputs": [
        {
          "output_type": "display_data",
          "data": {
            "text/plain": [
              "<Figure size 1000x700 with 1 Axes>"
            ],
            "image/png": "[encoded data removed]"
          },
          "metadata": {}
        }
      ]
    },
    {
      "cell_type": "code",
      "source": [
        "print(f'Actual weights and bias: {weight} and {bias}')\n",
        "print(f' weights and bias: {model_0.state_dict()}')"
      ],
      "metadata": {
        "colab": {
          "base_uri": "https://localhost:8080/"
        },
        "id": "NB3wLB1RA0ds",
        "outputId": "a9600789-88cb-4368-92cb-a5dd23665b1b"
      },
      "execution_count": null,
      "outputs": [
        {
          "output_type": "stream",
          "name": "stdout",
          "text": [
            "Actual weights and bias: 0.7 and 0.3\n",
            " weights and bias: OrderedDict([('weights', tensor([0.6990])), ('bias', tensor([0.3093]))])\n"
          ]
        }
      ]
    },
    {
      "cell_type": "markdown",
      "source": [
        "## Saving a model in PyTorch\n",
        "\n",
        "There are three main methods you should know about for saving and loading models in PyTorch:\n",
        "\n",
        "1. `torch.save()` - allows you to save a PyTorch object in Python's pickle format.\n",
        "*Python's **pickle module** is used for serializing and deserializing Python objects, which means converting Python objects into a byte stream (serialization) and converting byte streams back into Python objects (deserialization).*\n",
        "\n",
        "2. `torch.load()` - allows you load a saved PyTorch object.\n",
        "3. `torch.nn.Module.load_state_dict()` - this allows to load a model's saved state dictionary.\n"
      ],
      "metadata": {
        "id": "zqSYHX4nJJwm"
      }
    },
    {
      "cell_type": "code",
      "source": [
        "model_0.state_dict()"
      ],
      "metadata": {
        "colab": {
          "base_uri": "https://localhost:8080/"
        },
        "id": "BHNa_AfaJTor",
        "outputId": "c00e6abe-eb1f-4ceb-aab2-86a98067cbd0"
      },
      "execution_count": null,
      "outputs": [
        {
          "output_type": "execute_result",
          "data": {
            "text/plain": [
              "OrderedDict([('weights', tensor([0.6990])), ('bias', tensor([0.3093]))])"
            ]
          },
          "metadata": {},
          "execution_count": 20
        }
      ]
    },
    {
      "cell_type": "code",
      "source": [
        "# Saving a PyTorch model\n",
        "from pathlib import Path\n",
        "\n",
        "# 1. Create models directory\n",
        "MODEL_PATH = Path(\"models\")\n",
        "MODEL_PATH.mkdir(parents=True, exist_ok=True)\n",
        "\n",
        "# 2. Create model save path\n",
        "MODEL_NAME = \"01_pytorch_workflow_model_0.pth\"\n",
        "MODEL_SAVE_PATH = MODEL_PATH / MODEL_NAME\n",
        "\n",
        "# 3. Save the model state dict\n",
        "print(f'Saving model to: {MODEL_SAVE_PATH}')\n",
        "torch.save(model_0.state_dict(), MODEL_SAVE_PATH)"
      ],
      "metadata": {
        "id": "-34j2PDNiY6w",
        "colab": {
          "base_uri": "https://localhost:8080/"
        },
        "outputId": "26753cc4-1577-41ae-a977-fb539c03077f"
      },
      "execution_count": null,
      "outputs": [
        {
          "output_type": "stream",
          "name": "stdout",
          "text": [
            "Saving model to: models/01_pytorch_workflow_model_0.pth\n"
          ]
        }
      ]
    },
    {
      "cell_type": "code",
      "source": [
        "! ls -l models"
      ],
      "metadata": {
        "colab": {
          "base_uri": "https://localhost:8080/"
        },
        "id": "_1WkwUHflNxl",
        "outputId": "c5247f99-dd79-40ab-a966-fcbb1be76fcf"
      },
      "execution_count": null,
      "outputs": [
        {
          "output_type": "stream",
          "name": "stdout",
          "text": [
            "total 4\n",
            "-rw-r--r-- 1 root root 1680 Aug 29 09:04 01_pytorch_workflow_model_0.pth\n"
          ]
        }
      ]
    },
    {
      "cell_type": "markdown",
      "source": [
        "## Loading a PyTorch model\n",
        "\n",
        "Since we created our model's `state_dict()`\n",
        "rather than the entire model, we'll create a new instance of our model class and load the saved `state_dict()` into that."
      ],
      "metadata": {
        "id": "9f3BaaQ3lkgp"
      }
    },
    {
      "cell_type": "code",
      "source": [
        "model_0.state_dict()"
      ],
      "metadata": {
        "colab": {
          "base_uri": "https://localhost:8080/"
        },
        "id": "H2mlWReRnJft",
        "outputId": "8fb1a319-7dbb-4f8e-aab7-85844ddb2f04"
      },
      "execution_count": null,
      "outputs": [
        {
          "output_type": "execute_result",
          "data": {
            "text/plain": [
              "OrderedDict([('weights', tensor([0.6990])), ('bias', tensor([0.3093]))])"
            ]
          },
          "metadata": {},
          "execution_count": 23
        }
      ]
    },
    {
      "cell_type": "code",
      "source": [
        "# To load in a saved state_dict, we have to instantiate a new instance of our model class\n",
        "loaded_model_0 = LinearRegressionModel()\n",
        "\n",
        "# Load the saved state_dict of model_0 (this will update the new instance with the updated parameters)\n",
        "loaded_model_0.load_state_dict(torch.load(MODEL_SAVE_PATH))"
      ],
      "metadata": {
        "colab": {
          "base_uri": "https://localhost:8080/"
        },
        "id": "Z3rmrEY7lQfq",
        "outputId": "c6db30c7-cc82-4a7d-9e10-b50a4574889c"
      },
      "execution_count": null,
      "outputs": [
        {
          "output_type": "stream",
          "name": "stderr",
          "text": [
            "<ipython-input-24-c490b1a572e0>:5: FutureWarning: You are using `torch.load` with `weights_only=False` (the current default value), which uses the default pickle module implicitly. It is possible to construct malicious pickle data which will execute arbitrary code during unpickling (See https://github.com/pytorch/pytorch/blob/main/SECURITY.md#untrusted-models for more details). In a future release, the default value for `weights_only` will be flipped to `True`. This limits the functions that could be executed during unpickling. Arbitrary objects will no longer be allowed to be loaded via this mode unless they are explicitly allowlisted by the user via `torch.serialization.add_safe_globals`. We recommend you start setting `weights_only=True` for any use case where you don't have full control of the loaded file. Please open an issue on GitHub for any issues related to this experimental feature.\n",
            "  loaded_model_0.load_state_dict(torch.load(MODEL_SAVE_PATH))\n"
          ]
        },
        {
          "output_type": "execute_result",
          "data": {
            "text/plain": [
              "<All keys matched successfully>"
            ]
          },
          "metadata": {},
          "execution_count": 24
        }
      ]
    },
    {
      "cell_type": "code",
      "source": [
        "loaded_model_0.state_dict()"
      ],
      "metadata": {
        "colab": {
          "base_uri": "https://localhost:8080/"
        },
        "id": "BRK5k1FwnOEj",
        "outputId": "63066061-d8a1-4756-a05f-46ebceb64ac5"
      },
      "execution_count": null,
      "outputs": [
        {
          "output_type": "execute_result",
          "data": {
            "text/plain": [
              "OrderedDict([('weights', tensor([0.6990])), ('bias', tensor([0.3093]))])"
            ]
          },
          "metadata": {},
          "execution_count": 25
        }
      ]
    },
    {
      "cell_type": "code",
      "source": [
        "# Make some predictions with our loaded model\n",
        "loaded_model_0.eval()\n",
        "with torch.inference_mode():\n",
        "  loaded_model_preds = loaded_model_0(X_test)\n",
        "loaded_model_preds"
      ],
      "metadata": {
        "colab": {
          "base_uri": "https://localhost:8080/"
        },
        "id": "Qu07LcUPnRHO",
        "outputId": "9794c247-3add-4c85-ce10-c14576a71f65"
      },
      "execution_count": null,
      "outputs": [
        {
          "output_type": "execute_result",
          "data": {
            "text/plain": [
              "tensor([[0.8685],\n",
              "        [0.8825],\n",
              "        [0.8965],\n",
              "        [0.9105],\n",
              "        [0.9245],\n",
              "        [0.9384],\n",
              "        [0.9524],\n",
              "        [0.9664],\n",
              "        [0.9804],\n",
              "        [0.9944]])"
            ]
          },
          "metadata": {},
          "execution_count": 26
        }
      ]
    },
    {
      "cell_type": "code",
      "source": [
        "# Compare loaded model preds with original model preds\n",
        "loaded_model_preds == y_preds_new"
      ],
      "metadata": {
        "colab": {
          "base_uri": "https://localhost:8080/"
        },
        "id": "w4qDQ3Nfnqyg",
        "outputId": "08b315cc-5683-4e91-b0b4-021fb4d8c8b9"
      },
      "execution_count": null,
      "outputs": [
        {
          "output_type": "execute_result",
          "data": {
            "text/plain": [
              "tensor([[True],\n",
              "        [True],\n",
              "        [True],\n",
              "        [True],\n",
              "        [True],\n",
              "        [True],\n",
              "        [True],\n",
              "        [True],\n",
              "        [True],\n",
              "        [True]])"
            ]
          },
          "metadata": {},
          "execution_count": 27
        }
      ]
    }
  ]
}